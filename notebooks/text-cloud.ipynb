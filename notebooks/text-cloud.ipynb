{
 "cells": [
  {
   "cell_type": "markdown",
   "metadata": {},
   "source": [
    "# init library\n",
    "## text input"
   ]
  },
  {
   "cell_type": "code",
   "execution_count": null,
   "metadata": {},
   "outputs": [],
   "source": [
    "from wordcloud import WordCloud\n",
    "from wordcloud import STOPWORDS\n",
    "import matplotlib.pyplot as plt\n",
    "word_string = \"Sehr Unprofessionelle Arbeitsweise. Erst den Mietvertrag beiderseitig unterschrieben, dann wurden wir gehetzt die fehlenden Unterlagen zu besorgen. Nachdem dies passiert war, kurzfristig vor der Übergabe der Wohnungsschlüssel wurde uns das ganze abgesagt! Wir konnten die Wohnung nicht beziehen. Logischerweise haben wir den weiteren potenziellen Wohnungen, welche für uns in Frage kämen vorzeitig abgesagt!!! Grund für die Absage (nach unterschriebenem Mietvertrag) hierfür ist gewesen, ich wäre zu jung für das Gehalt im Monat!!! Und im Anschluss wurde mir Urkundenfälschung unterstellt!!!!! Eine Bilanz fällt immer etwas Schmaler aus !!!! Frechheit!!!! Weshalb unterschreibt man beiderseitig einen Mietvertrag, wenn man vorher nicht die Unterlagen des potenziellen Mieters prüft? Das beschreibt die unprofessionelle Arbeitsweise des Verwalters!!!\""
   ]
  },
  {
   "cell_type": "code",
   "execution_count": null,
   "metadata": {},
   "outputs": [],
   "source": [
    "def draw(word_string, stop_words):\n",
    "    wordcloud = WordCloud(background_color=\"white\",\n",
    "                              width=1200, height=1000,\n",
    "                              stopwords=stop_words\n",
    "                             ).generate(word_string)\n",
    "    plt.imshow(wordcloud)\n",
    "    plt.axis(\"off\") \n",
    "    plt.margins(x=0, y=0) "
   ]
  },
  {
   "cell_type": "code",
   "execution_count": null,
   "metadata": {},
   "outputs": [],
   "source": [
    "draw(word_string, STOPWORDS)"
   ]
  },
  {
   "cell_type": "code",
   "execution_count": null,
   "metadata": {},
   "outputs": [],
   "source": [
    "from stop_words import get_stop_words \n",
    "stop_words = get_stop_words('german') \n",
    "\n",
    "wordcloud = WordCloud(background_color=\"white\",\n",
    "                          width=1200, height=1000,\n",
    "                          stopwords=stop_words\n",
    "                         ).generate(word_string)\n",
    "plt.imshow(wordcloud)\n",
    "plt.axis(\"off\") \n",
    "plt.margins(x=0, y=0) "
   ]
  },
  {
   "cell_type": "code",
   "execution_count": null,
   "metadata": {},
   "outputs": [],
   "source": [
    "additional_ge_stopwords = ['erst', 'wurden', 'wurde', 'nachdem', 'potenziellen']\n",
    "for word in additional_ge_stopwords:\n",
    "    stop_words.append(word)"
   ]
  },
  {
   "cell_type": "code",
   "execution_count": null,
   "metadata": {},
   "outputs": [],
   "source": [
    "wordcloud = WordCloud(background_color=\"white\",\n",
    "                          width=1200, height=1000,\n",
    "                          stopwords=stop_words\n",
    "                         ).generate(word_string)\n",
    "plt.imshow(wordcloud)\n",
    "plt.axis(\"off\") \n",
    "plt.margins(x=0, y=0) "
   ]
  },
  {
   "cell_type": "code",
   "execution_count": null,
   "metadata": {},
   "outputs": [],
   "source": []
  }
 ],
 "metadata": {
  "kernelspec": {
   "display_name": "Python 3",
   "language": "python",
   "name": "python3"
  },
  "language_info": {
   "codemirror_mode": {
    "name": "ipython",
    "version": 3
   },
   "file_extension": ".py",
   "mimetype": "text/x-python",
   "name": "python",
   "nbconvert_exporter": "python",
   "pygments_lexer": "ipython3",
   "version": "3.7.3"
  }
 },
 "nbformat": 4,
 "nbformat_minor": 2
}
